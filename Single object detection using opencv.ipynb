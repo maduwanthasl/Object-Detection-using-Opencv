{
 "cells": [
  {
   "cell_type": "code",
   "execution_count": 2,
   "id": "55f70905-86ac-44a7-9c13-760471a77ab2",
   "metadata": {},
   "outputs": [],
   "source": [
    "import cv2\n",
    "\n",
    "TrDict = {\n",
    "    'csrt': cv2.TrackerCSRT_create,\n",
    "    'kcf': cv2.TrackerKCF_create,\n",
    "    'mil': cv2.TrackerMIL_create,\n",
    "}"
   ]
  },
  {
   "cell_type": "code",
   "execution_count": 3,
   "id": "b45f3e47-1dd5-410a-bfb5-515301a2f896",
   "metadata": {},
   "outputs": [],
   "source": [
    "tracker = TrDict['mil']()"
   ]
  },
  {
   "cell_type": "code",
   "execution_count": 4,
   "id": "cb66013c-da49-4f22-86c9-ccbf45a9849c",
   "metadata": {},
   "outputs": [],
   "source": [
    "video = cv2.VideoCapture(\"/home/shevi/Downloads/object_tracker.mp4\")"
   ]
  },
  {
   "cell_type": "code",
   "execution_count": 5,
   "id": "8904ed35-52b6-487a-b9b7-ff193ffd53f5",
   "metadata": {},
   "outputs": [],
   "source": [
    "# Read the first frame\n",
    "ret, frame = video.read()\n",
    "\n",
    "# Check if the video file is opened successfully\n",
    "if not ret:\n",
    "    print(\"Error: Failed to open video file\")\n",
    "    exit()"
   ]
  },
  {
   "cell_type": "code",
   "execution_count": 6,
   "id": "75f29ea2-d76f-4a87-b6f9-28d069216261",
   "metadata": {},
   "outputs": [],
   "source": [
    "# Select a bounding box for tracking\n",
    "bbox = cv2.selectROI('Frame', frame, fromCenter=False, showCrosshair=True)\n",
    "\n",
    "# Initialize the tracker with the bounding box and the first frame\n",
    "tracker.init(frame, bbox)\n",
    "\n",
    "# Loop through the video frames\n",
    "while True:\n",
    "    # Read a new frame\n",
    "    ret, frame = video.read()\n",
    "    if not ret:\n",
    "        break\n",
    "\n",
    "    # Update the tracker\n",
    "    ret, bbox = tracker.update(frame)\n",
    "\n",
    "    # Draw bounding box\n",
    "    if ret:\n",
    "        # Tracking success\n",
    "        p1 = (int(bbox[0]), int(bbox[1]))\n",
    "        p2 = (int(bbox[0] + bbox[2]), int(bbox[1] + bbox[3]))\n",
    "        cv2.rectangle(frame, p1, p2, (255,0,0), 2, 1)\n",
    "    else :\n",
    "        # Tracking failure\n",
    "        cv2.putText(frame, \"Tracking failure detected\", (100,80), cv2.FONT_HERSHEY_SIMPLEX, 0.75,(0,0,255),2)\n",
    "\n",
    "    # Display frame\n",
    "    cv2.imshow('Frame', frame)\n",
    "\n",
    "    # Exit if ESC pressed\n",
    "    k = cv2.waitKey(1) & 0xff\n",
    "    if k == 27 : break\n",
    "\n",
    "# Release the video capture and close any open windows\n",
    "video.release()\n",
    "cv2.destroyAllWindows()"
   ]
  },
  {
   "cell_type": "code",
   "execution_count": null,
   "id": "05fd0d41-414d-4a70-b6b6-623110f9297a",
   "metadata": {},
   "outputs": [],
   "source": []
  },
  {
   "cell_type": "code",
   "execution_count": null,
   "id": "3a3183a5-9a10-4397-b13d-357ef1bbbca5",
   "metadata": {},
   "outputs": [],
   "source": []
  },
  {
   "cell_type": "code",
   "execution_count": null,
   "id": "7e51284b-636d-4b4a-af50-c229d370f534",
   "metadata": {},
   "outputs": [],
   "source": []
  }
 ],
 "metadata": {
  "kernelspec": {
   "display_name": "Python 3 (ipykernel)",
   "language": "python",
   "name": "python3"
  },
  "language_info": {
   "codemirror_mode": {
    "name": "ipython",
    "version": 3
   },
   "file_extension": ".py",
   "mimetype": "text/x-python",
   "name": "python",
   "nbconvert_exporter": "python",
   "pygments_lexer": "ipython3",
   "version": "3.10.12"
  }
 },
 "nbformat": 4,
 "nbformat_minor": 5
}
